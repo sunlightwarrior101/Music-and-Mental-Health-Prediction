{
  "nbformat": 4,
  "nbformat_minor": 0,
  "metadata": {
    "colab": {
      "provenance": []
    },
    "kernelspec": {
      "name": "python3",
      "display_name": "Python 3"
    },
    "language_info": {
      "name": "python"
    }
  },
  "cells": [
    {
      "cell_type": "code",
      "execution_count": 2,
      "metadata": {
        "id": "HTk5_gFu2a52"
      },
      "outputs": [],
      "source": [
        "# Load the necessary libraries\n",
        "import pandas as pd\n",
        "import numpy as np\n",
        "import matplotlib.pyplot as plt\n",
        "import seaborn as sns\n",
        "from google.colab import files"
      ]
    },
    {
      "cell_type": "code",
      "source": [
        "uploaded = files.upload()\n",
        "import io\n"
      ],
      "metadata": {
        "colab": {
          "base_uri": "https://localhost:8080/",
          "height": 73
        },
        "id": "x3DjJrJb2o2Y",
        "outputId": "b1f80e5c-a036-47dd-ae28-8978cb9344bf"
      },
      "execution_count": 3,
      "outputs": [
        {
          "output_type": "display_data",
          "data": {
            "text/plain": [
              "<IPython.core.display.HTML object>"
            ],
            "text/html": [
              "\n",
              "     <input type=\"file\" id=\"files-aedbace7-2a46-4582-b3aa-eb2fb2573f7f\" name=\"files[]\" multiple disabled\n",
              "        style=\"border:none\" />\n",
              "     <output id=\"result-aedbace7-2a46-4582-b3aa-eb2fb2573f7f\">\n",
              "      Upload widget is only available when the cell has been executed in the\n",
              "      current browser session. Please rerun this cell to enable.\n",
              "      </output>\n",
              "      <script>// Copyright 2017 Google LLC\n",
              "//\n",
              "// Licensed under the Apache License, Version 2.0 (the \"License\");\n",
              "// you may not use this file except in compliance with the License.\n",
              "// You may obtain a copy of the License at\n",
              "//\n",
              "//      http://www.apache.org/licenses/LICENSE-2.0\n",
              "//\n",
              "// Unless required by applicable law or agreed to in writing, software\n",
              "// distributed under the License is distributed on an \"AS IS\" BASIS,\n",
              "// WITHOUT WARRANTIES OR CONDITIONS OF ANY KIND, either express or implied.\n",
              "// See the License for the specific language governing permissions and\n",
              "// limitations under the License.\n",
              "\n",
              "/**\n",
              " * @fileoverview Helpers for google.colab Python module.\n",
              " */\n",
              "(function(scope) {\n",
              "function span(text, styleAttributes = {}) {\n",
              "  const element = document.createElement('span');\n",
              "  element.textContent = text;\n",
              "  for (const key of Object.keys(styleAttributes)) {\n",
              "    element.style[key] = styleAttributes[key];\n",
              "  }\n",
              "  return element;\n",
              "}\n",
              "\n",
              "// Max number of bytes which will be uploaded at a time.\n",
              "const MAX_PAYLOAD_SIZE = 100 * 1024;\n",
              "\n",
              "function _uploadFiles(inputId, outputId) {\n",
              "  const steps = uploadFilesStep(inputId, outputId);\n",
              "  const outputElement = document.getElementById(outputId);\n",
              "  // Cache steps on the outputElement to make it available for the next call\n",
              "  // to uploadFilesContinue from Python.\n",
              "  outputElement.steps = steps;\n",
              "\n",
              "  return _uploadFilesContinue(outputId);\n",
              "}\n",
              "\n",
              "// This is roughly an async generator (not supported in the browser yet),\n",
              "// where there are multiple asynchronous steps and the Python side is going\n",
              "// to poll for completion of each step.\n",
              "// This uses a Promise to block the python side on completion of each step,\n",
              "// then passes the result of the previous step as the input to the next step.\n",
              "function _uploadFilesContinue(outputId) {\n",
              "  const outputElement = document.getElementById(outputId);\n",
              "  const steps = outputElement.steps;\n",
              "\n",
              "  const next = steps.next(outputElement.lastPromiseValue);\n",
              "  return Promise.resolve(next.value.promise).then((value) => {\n",
              "    // Cache the last promise value to make it available to the next\n",
              "    // step of the generator.\n",
              "    outputElement.lastPromiseValue = value;\n",
              "    return next.value.response;\n",
              "  });\n",
              "}\n",
              "\n",
              "/**\n",
              " * Generator function which is called between each async step of the upload\n",
              " * process.\n",
              " * @param {string} inputId Element ID of the input file picker element.\n",
              " * @param {string} outputId Element ID of the output display.\n",
              " * @return {!Iterable<!Object>} Iterable of next steps.\n",
              " */\n",
              "function* uploadFilesStep(inputId, outputId) {\n",
              "  const inputElement = document.getElementById(inputId);\n",
              "  inputElement.disabled = false;\n",
              "\n",
              "  const outputElement = document.getElementById(outputId);\n",
              "  outputElement.innerHTML = '';\n",
              "\n",
              "  const pickedPromise = new Promise((resolve) => {\n",
              "    inputElement.addEventListener('change', (e) => {\n",
              "      resolve(e.target.files);\n",
              "    });\n",
              "  });\n",
              "\n",
              "  const cancel = document.createElement('button');\n",
              "  inputElement.parentElement.appendChild(cancel);\n",
              "  cancel.textContent = 'Cancel upload';\n",
              "  const cancelPromise = new Promise((resolve) => {\n",
              "    cancel.onclick = () => {\n",
              "      resolve(null);\n",
              "    };\n",
              "  });\n",
              "\n",
              "  // Wait for the user to pick the files.\n",
              "  const files = yield {\n",
              "    promise: Promise.race([pickedPromise, cancelPromise]),\n",
              "    response: {\n",
              "      action: 'starting',\n",
              "    }\n",
              "  };\n",
              "\n",
              "  cancel.remove();\n",
              "\n",
              "  // Disable the input element since further picks are not allowed.\n",
              "  inputElement.disabled = true;\n",
              "\n",
              "  if (!files) {\n",
              "    return {\n",
              "      response: {\n",
              "        action: 'complete',\n",
              "      }\n",
              "    };\n",
              "  }\n",
              "\n",
              "  for (const file of files) {\n",
              "    const li = document.createElement('li');\n",
              "    li.append(span(file.name, {fontWeight: 'bold'}));\n",
              "    li.append(span(\n",
              "        `(${file.type || 'n/a'}) - ${file.size} bytes, ` +\n",
              "        `last modified: ${\n",
              "            file.lastModifiedDate ? file.lastModifiedDate.toLocaleDateString() :\n",
              "                                    'n/a'} - `));\n",
              "    const percent = span('0% done');\n",
              "    li.appendChild(percent);\n",
              "\n",
              "    outputElement.appendChild(li);\n",
              "\n",
              "    const fileDataPromise = new Promise((resolve) => {\n",
              "      const reader = new FileReader();\n",
              "      reader.onload = (e) => {\n",
              "        resolve(e.target.result);\n",
              "      };\n",
              "      reader.readAsArrayBuffer(file);\n",
              "    });\n",
              "    // Wait for the data to be ready.\n",
              "    let fileData = yield {\n",
              "      promise: fileDataPromise,\n",
              "      response: {\n",
              "        action: 'continue',\n",
              "      }\n",
              "    };\n",
              "\n",
              "    // Use a chunked sending to avoid message size limits. See b/62115660.\n",
              "    let position = 0;\n",
              "    do {\n",
              "      const length = Math.min(fileData.byteLength - position, MAX_PAYLOAD_SIZE);\n",
              "      const chunk = new Uint8Array(fileData, position, length);\n",
              "      position += length;\n",
              "\n",
              "      const base64 = btoa(String.fromCharCode.apply(null, chunk));\n",
              "      yield {\n",
              "        response: {\n",
              "          action: 'append',\n",
              "          file: file.name,\n",
              "          data: base64,\n",
              "        },\n",
              "      };\n",
              "\n",
              "      let percentDone = fileData.byteLength === 0 ?\n",
              "          100 :\n",
              "          Math.round((position / fileData.byteLength) * 100);\n",
              "      percent.textContent = `${percentDone}% done`;\n",
              "\n",
              "    } while (position < fileData.byteLength);\n",
              "  }\n",
              "\n",
              "  // All done.\n",
              "  yield {\n",
              "    response: {\n",
              "      action: 'complete',\n",
              "    }\n",
              "  };\n",
              "}\n",
              "\n",
              "scope.google = scope.google || {};\n",
              "scope.google.colab = scope.google.colab || {};\n",
              "scope.google.colab._files = {\n",
              "  _uploadFiles,\n",
              "  _uploadFilesContinue,\n",
              "};\n",
              "})(self);\n",
              "</script> "
            ]
          },
          "metadata": {}
        },
        {
          "output_type": "stream",
          "name": "stdout",
          "text": [
            "Saving mxmh_survey_results.csv to mxmh_survey_results.csv\n"
          ]
        }
      ]
    },
    {
      "cell_type": "code",
      "source": [
        "df = pd.read_csv(io.BytesIO(uploaded['mxmh_survey_results.csv']))"
      ],
      "metadata": {
        "id": "mZ4cJeiB2q3x"
      },
      "execution_count": 4,
      "outputs": []
    },
    {
      "cell_type": "code",
      "source": [
        "df.head()"
      ],
      "metadata": {
        "colab": {
          "base_uri": "https://localhost:8080/",
          "height": 455
        },
        "id": "pku-oja72tHe",
        "outputId": "66da9c2a-1538-4208-b9c5-7b14542ff7f8"
      },
      "execution_count": 5,
      "outputs": [
        {
          "output_type": "execute_result",
          "data": {
            "text/plain": [
              "            Timestamp   Age Primary streaming service  Hours per day  \\\n",
              "0  8/27/2022 19:29:02  18.0                   Spotify            3.0   \n",
              "1  8/27/2022 19:57:31  63.0                   Pandora            1.5   \n",
              "2  8/27/2022 21:28:18  18.0                   Spotify            4.0   \n",
              "3  8/27/2022 21:40:40  61.0             YouTube Music            2.5   \n",
              "4  8/27/2022 21:54:47  18.0                   Spotify            4.0   \n",
              "\n",
              "  While working Instrumentalist Composer         Fav genre Exploratory  \\\n",
              "0           Yes             Yes      Yes             Latin         Yes   \n",
              "1           Yes              No       No              Rock         Yes   \n",
              "2            No              No       No  Video game music          No   \n",
              "3           Yes              No      Yes              Jazz         Yes   \n",
              "4           Yes              No       No               R&B         Yes   \n",
              "\n",
              "  Foreign languages  ...  Frequency [R&B]  Frequency [Rap] Frequency [Rock]  \\\n",
              "0               Yes  ...        Sometimes  Very frequently            Never   \n",
              "1                No  ...        Sometimes           Rarely  Very frequently   \n",
              "2               Yes  ...            Never           Rarely           Rarely   \n",
              "3               Yes  ...        Sometimes            Never            Never   \n",
              "4                No  ...  Very frequently  Very frequently            Never   \n",
              "\n",
              "  Frequency [Video game music] Anxiety Depression Insomnia  OCD Music effects  \\\n",
              "0                    Sometimes     3.0        0.0      1.0  0.0           NaN   \n",
              "1                       Rarely     7.0        2.0      2.0  1.0           NaN   \n",
              "2              Very frequently     7.0        7.0     10.0  2.0     No effect   \n",
              "3                        Never     9.0        7.0      3.0  3.0       Improve   \n",
              "4                       Rarely     7.0        2.0      5.0  9.0       Improve   \n",
              "\n",
              "     Permissions  \n",
              "0  I understand.  \n",
              "1  I understand.  \n",
              "2  I understand.  \n",
              "3  I understand.  \n",
              "4  I understand.  \n",
              "\n",
              "[5 rows x 33 columns]"
            ],
            "text/html": [
              "\n",
              "  <div id=\"df-786aee4d-103e-4271-99f3-acc3b90c09d1\">\n",
              "    <div class=\"colab-df-container\">\n",
              "      <div>\n",
              "<style scoped>\n",
              "    .dataframe tbody tr th:only-of-type {\n",
              "        vertical-align: middle;\n",
              "    }\n",
              "\n",
              "    .dataframe tbody tr th {\n",
              "        vertical-align: top;\n",
              "    }\n",
              "\n",
              "    .dataframe thead th {\n",
              "        text-align: right;\n",
              "    }\n",
              "</style>\n",
              "<table border=\"1\" class=\"dataframe\">\n",
              "  <thead>\n",
              "    <tr style=\"text-align: right;\">\n",
              "      <th></th>\n",
              "      <th>Timestamp</th>\n",
              "      <th>Age</th>\n",
              "      <th>Primary streaming service</th>\n",
              "      <th>Hours per day</th>\n",
              "      <th>While working</th>\n",
              "      <th>Instrumentalist</th>\n",
              "      <th>Composer</th>\n",
              "      <th>Fav genre</th>\n",
              "      <th>Exploratory</th>\n",
              "      <th>Foreign languages</th>\n",
              "      <th>...</th>\n",
              "      <th>Frequency [R&amp;B]</th>\n",
              "      <th>Frequency [Rap]</th>\n",
              "      <th>Frequency [Rock]</th>\n",
              "      <th>Frequency [Video game music]</th>\n",
              "      <th>Anxiety</th>\n",
              "      <th>Depression</th>\n",
              "      <th>Insomnia</th>\n",
              "      <th>OCD</th>\n",
              "      <th>Music effects</th>\n",
              "      <th>Permissions</th>\n",
              "    </tr>\n",
              "  </thead>\n",
              "  <tbody>\n",
              "    <tr>\n",
              "      <th>0</th>\n",
              "      <td>8/27/2022 19:29:02</td>\n",
              "      <td>18.0</td>\n",
              "      <td>Spotify</td>\n",
              "      <td>3.0</td>\n",
              "      <td>Yes</td>\n",
              "      <td>Yes</td>\n",
              "      <td>Yes</td>\n",
              "      <td>Latin</td>\n",
              "      <td>Yes</td>\n",
              "      <td>Yes</td>\n",
              "      <td>...</td>\n",
              "      <td>Sometimes</td>\n",
              "      <td>Very frequently</td>\n",
              "      <td>Never</td>\n",
              "      <td>Sometimes</td>\n",
              "      <td>3.0</td>\n",
              "      <td>0.0</td>\n",
              "      <td>1.0</td>\n",
              "      <td>0.0</td>\n",
              "      <td>NaN</td>\n",
              "      <td>I understand.</td>\n",
              "    </tr>\n",
              "    <tr>\n",
              "      <th>1</th>\n",
              "      <td>8/27/2022 19:57:31</td>\n",
              "      <td>63.0</td>\n",
              "      <td>Pandora</td>\n",
              "      <td>1.5</td>\n",
              "      <td>Yes</td>\n",
              "      <td>No</td>\n",
              "      <td>No</td>\n",
              "      <td>Rock</td>\n",
              "      <td>Yes</td>\n",
              "      <td>No</td>\n",
              "      <td>...</td>\n",
              "      <td>Sometimes</td>\n",
              "      <td>Rarely</td>\n",
              "      <td>Very frequently</td>\n",
              "      <td>Rarely</td>\n",
              "      <td>7.0</td>\n",
              "      <td>2.0</td>\n",
              "      <td>2.0</td>\n",
              "      <td>1.0</td>\n",
              "      <td>NaN</td>\n",
              "      <td>I understand.</td>\n",
              "    </tr>\n",
              "    <tr>\n",
              "      <th>2</th>\n",
              "      <td>8/27/2022 21:28:18</td>\n",
              "      <td>18.0</td>\n",
              "      <td>Spotify</td>\n",
              "      <td>4.0</td>\n",
              "      <td>No</td>\n",
              "      <td>No</td>\n",
              "      <td>No</td>\n",
              "      <td>Video game music</td>\n",
              "      <td>No</td>\n",
              "      <td>Yes</td>\n",
              "      <td>...</td>\n",
              "      <td>Never</td>\n",
              "      <td>Rarely</td>\n",
              "      <td>Rarely</td>\n",
              "      <td>Very frequently</td>\n",
              "      <td>7.0</td>\n",
              "      <td>7.0</td>\n",
              "      <td>10.0</td>\n",
              "      <td>2.0</td>\n",
              "      <td>No effect</td>\n",
              "      <td>I understand.</td>\n",
              "    </tr>\n",
              "    <tr>\n",
              "      <th>3</th>\n",
              "      <td>8/27/2022 21:40:40</td>\n",
              "      <td>61.0</td>\n",
              "      <td>YouTube Music</td>\n",
              "      <td>2.5</td>\n",
              "      <td>Yes</td>\n",
              "      <td>No</td>\n",
              "      <td>Yes</td>\n",
              "      <td>Jazz</td>\n",
              "      <td>Yes</td>\n",
              "      <td>Yes</td>\n",
              "      <td>...</td>\n",
              "      <td>Sometimes</td>\n",
              "      <td>Never</td>\n",
              "      <td>Never</td>\n",
              "      <td>Never</td>\n",
              "      <td>9.0</td>\n",
              "      <td>7.0</td>\n",
              "      <td>3.0</td>\n",
              "      <td>3.0</td>\n",
              "      <td>Improve</td>\n",
              "      <td>I understand.</td>\n",
              "    </tr>\n",
              "    <tr>\n",
              "      <th>4</th>\n",
              "      <td>8/27/2022 21:54:47</td>\n",
              "      <td>18.0</td>\n",
              "      <td>Spotify</td>\n",
              "      <td>4.0</td>\n",
              "      <td>Yes</td>\n",
              "      <td>No</td>\n",
              "      <td>No</td>\n",
              "      <td>R&amp;B</td>\n",
              "      <td>Yes</td>\n",
              "      <td>No</td>\n",
              "      <td>...</td>\n",
              "      <td>Very frequently</td>\n",
              "      <td>Very frequently</td>\n",
              "      <td>Never</td>\n",
              "      <td>Rarely</td>\n",
              "      <td>7.0</td>\n",
              "      <td>2.0</td>\n",
              "      <td>5.0</td>\n",
              "      <td>9.0</td>\n",
              "      <td>Improve</td>\n",
              "      <td>I understand.</td>\n",
              "    </tr>\n",
              "  </tbody>\n",
              "</table>\n",
              "<p>5 rows × 33 columns</p>\n",
              "</div>\n",
              "      <button class=\"colab-df-convert\" onclick=\"convertToInteractive('df-786aee4d-103e-4271-99f3-acc3b90c09d1')\"\n",
              "              title=\"Convert this dataframe to an interactive table.\"\n",
              "              style=\"display:none;\">\n",
              "        \n",
              "  <svg xmlns=\"http://www.w3.org/2000/svg\" height=\"24px\"viewBox=\"0 0 24 24\"\n",
              "       width=\"24px\">\n",
              "    <path d=\"M0 0h24v24H0V0z\" fill=\"none\"/>\n",
              "    <path d=\"M18.56 5.44l.94 2.06.94-2.06 2.06-.94-2.06-.94-.94-2.06-.94 2.06-2.06.94zm-11 1L8.5 8.5l.94-2.06 2.06-.94-2.06-.94L8.5 2.5l-.94 2.06-2.06.94zm10 10l.94 2.06.94-2.06 2.06-.94-2.06-.94-.94-2.06-.94 2.06-2.06.94z\"/><path d=\"M17.41 7.96l-1.37-1.37c-.4-.4-.92-.59-1.43-.59-.52 0-1.04.2-1.43.59L10.3 9.45l-7.72 7.72c-.78.78-.78 2.05 0 2.83L4 21.41c.39.39.9.59 1.41.59.51 0 1.02-.2 1.41-.59l7.78-7.78 2.81-2.81c.8-.78.8-2.07 0-2.86zM5.41 20L4 18.59l7.72-7.72 1.47 1.35L5.41 20z\"/>\n",
              "  </svg>\n",
              "      </button>\n",
              "      \n",
              "  <style>\n",
              "    .colab-df-container {\n",
              "      display:flex;\n",
              "      flex-wrap:wrap;\n",
              "      gap: 12px;\n",
              "    }\n",
              "\n",
              "    .colab-df-convert {\n",
              "      background-color: #E8F0FE;\n",
              "      border: none;\n",
              "      border-radius: 50%;\n",
              "      cursor: pointer;\n",
              "      display: none;\n",
              "      fill: #1967D2;\n",
              "      height: 32px;\n",
              "      padding: 0 0 0 0;\n",
              "      width: 32px;\n",
              "    }\n",
              "\n",
              "    .colab-df-convert:hover {\n",
              "      background-color: #E2EBFA;\n",
              "      box-shadow: 0px 1px 2px rgba(60, 64, 67, 0.3), 0px 1px 3px 1px rgba(60, 64, 67, 0.15);\n",
              "      fill: #174EA6;\n",
              "    }\n",
              "\n",
              "    [theme=dark] .colab-df-convert {\n",
              "      background-color: #3B4455;\n",
              "      fill: #D2E3FC;\n",
              "    }\n",
              "\n",
              "    [theme=dark] .colab-df-convert:hover {\n",
              "      background-color: #434B5C;\n",
              "      box-shadow: 0px 1px 3px 1px rgba(0, 0, 0, 0.15);\n",
              "      filter: drop-shadow(0px 1px 2px rgba(0, 0, 0, 0.3));\n",
              "      fill: #FFFFFF;\n",
              "    }\n",
              "  </style>\n",
              "\n",
              "      <script>\n",
              "        const buttonEl =\n",
              "          document.querySelector('#df-786aee4d-103e-4271-99f3-acc3b90c09d1 button.colab-df-convert');\n",
              "        buttonEl.style.display =\n",
              "          google.colab.kernel.accessAllowed ? 'block' : 'none';\n",
              "\n",
              "        async function convertToInteractive(key) {\n",
              "          const element = document.querySelector('#df-786aee4d-103e-4271-99f3-acc3b90c09d1');\n",
              "          const dataTable =\n",
              "            await google.colab.kernel.invokeFunction('convertToInteractive',\n",
              "                                                     [key], {});\n",
              "          if (!dataTable) return;\n",
              "\n",
              "          const docLinkHtml = 'Like what you see? Visit the ' +\n",
              "            '<a target=\"_blank\" href=https://colab.research.google.com/notebooks/data_table.ipynb>data table notebook</a>'\n",
              "            + ' to learn more about interactive tables.';\n",
              "          element.innerHTML = '';\n",
              "          dataTable['output_type'] = 'display_data';\n",
              "          await google.colab.output.renderOutput(dataTable, element);\n",
              "          const docLink = document.createElement('div');\n",
              "          docLink.innerHTML = docLinkHtml;\n",
              "          element.appendChild(docLink);\n",
              "        }\n",
              "      </script>\n",
              "    </div>\n",
              "  </div>\n",
              "  "
            ]
          },
          "metadata": {},
          "execution_count": 5
        }
      ]
    },
    {
      "cell_type": "code",
      "source": [
        "df.info()"
      ],
      "metadata": {
        "colab": {
          "base_uri": "https://localhost:8080/"
        },
        "id": "7KIeLzWE3Atf",
        "outputId": "8539284b-7b10-4b46-8de9-446ce8d92874"
      },
      "execution_count": 6,
      "outputs": [
        {
          "output_type": "stream",
          "name": "stdout",
          "text": [
            "<class 'pandas.core.frame.DataFrame'>\n",
            "RangeIndex: 736 entries, 0 to 735\n",
            "Data columns (total 33 columns):\n",
            " #   Column                        Non-Null Count  Dtype  \n",
            "---  ------                        --------------  -----  \n",
            " 0   Timestamp                     736 non-null    object \n",
            " 1   Age                           735 non-null    float64\n",
            " 2   Primary streaming service     735 non-null    object \n",
            " 3   Hours per day                 736 non-null    float64\n",
            " 4   While working                 733 non-null    object \n",
            " 5   Instrumentalist               732 non-null    object \n",
            " 6   Composer                      735 non-null    object \n",
            " 7   Fav genre                     736 non-null    object \n",
            " 8   Exploratory                   736 non-null    object \n",
            " 9   Foreign languages             732 non-null    object \n",
            " 10  BPM                           629 non-null    float64\n",
            " 11  Frequency [Classical]         736 non-null    object \n",
            " 12  Frequency [Country]           736 non-null    object \n",
            " 13  Frequency [EDM]               736 non-null    object \n",
            " 14  Frequency [Folk]              736 non-null    object \n",
            " 15  Frequency [Gospel]            736 non-null    object \n",
            " 16  Frequency [Hip hop]           736 non-null    object \n",
            " 17  Frequency [Jazz]              736 non-null    object \n",
            " 18  Frequency [K pop]             736 non-null    object \n",
            " 19  Frequency [Latin]             736 non-null    object \n",
            " 20  Frequency [Lofi]              736 non-null    object \n",
            " 21  Frequency [Metal]             736 non-null    object \n",
            " 22  Frequency [Pop]               736 non-null    object \n",
            " 23  Frequency [R&B]               736 non-null    object \n",
            " 24  Frequency [Rap]               736 non-null    object \n",
            " 25  Frequency [Rock]              736 non-null    object \n",
            " 26  Frequency [Video game music]  736 non-null    object \n",
            " 27  Anxiety                       736 non-null    float64\n",
            " 28  Depression                    736 non-null    float64\n",
            " 29  Insomnia                      736 non-null    float64\n",
            " 30  OCD                           736 non-null    float64\n",
            " 31  Music effects                 728 non-null    object \n",
            " 32  Permissions                   736 non-null    object \n",
            "dtypes: float64(7), object(26)\n",
            "memory usage: 189.9+ KB\n"
          ]
        }
      ]
    },
    {
      "cell_type": "markdown",
      "source": [
        "#BPM\n",
        "This has some nasty outliers that need to be replaced, so by exploring values around the mode and meadian we can select a suitable threshold  to set max values and fill in missing values with the mean"
      ],
      "metadata": {
        "id": "9cErIZr6j4Rk"
      }
    },
    {
      "cell_type": "code",
      "source": [
        "import seaborn as sns\n",
        "sns.histplot(df.BPM, bins = int(round(df.BPM.count()**(1/3), 0)), kde = True)\n",
        "plt.axvline(df.BPM.mean(), color='red', linestyle='dashed', linewidth=4)\n",
        "text  = 'Std dev: ' + str(round(df.BPM.std(), 2)) + '\\n'\n",
        "text += 'Mean: ' + str(round(df.BPM.mean(), 2)) + '\\n'\n",
        "text += 'Median: ' + str(round(df.BPM.median(), 2)) + '\\n'\n",
        "text += 'Mode: ' + str(round(df.BPM.mode()[0], 2)) + '\\n'\n",
        "text += '25% Percentile: ' + str(round(df.BPM.quantile(0.25), 2)) + '\\n'\n",
        "text += '50% Percentile: ' + str(round(df.BPM.quantile(0.50), 2)) + '\\n'\n",
        "text += '75% Percentile: ' + str(round(df.BPM.quantile(0.75), 2))\n",
        "\n",
        "plt.text(0.95, 0.5, text, fontsize=10, transform=plt.gcf().transFigure)\n",
        "\n",
        "plt.show()\n"
      ],
      "metadata": {
        "colab": {
          "base_uri": "https://localhost:8080/",
          "height": 449
        },
        "id": "gkyUZgSGpGfR",
        "outputId": "57dc3572-81b1-4ea0-ee76-abf00e33e5e4"
      },
      "execution_count": 7,
      "outputs": [
        {
          "output_type": "display_data",
          "data": {
            "text/plain": [
              "<Figure size 640x480 with 1 Axes>"
            ],
            "image/png": "[encoded data removed]"
          },
          "metadata": {}
        }
      ]
    },
    {
      "cell_type": "code",
      "source": [
        "outlier_thereshold = 190\n",
        "\n",
        "outliers = df['BPM'] > outlier_thereshold\n",
        "# Calculate the mean excluding outliers\n",
        "mean_value = df.loc[~outliers, 'BPM'].mean()\n",
        "# Replace outliers with the mean value\n",
        "df.loc[outliers, 'BPM'] = mean_value"
      ],
      "metadata": {
        "id": "OTr9xVH0dRwU"
      },
      "execution_count": 8,
      "outputs": []
    },
    {
      "cell_type": "code",
      "source": [
        "import seaborn as sns\n",
        "sns.histplot(df.BPM, bins = int(round(df.BPM.count()**(1/3), 0)), kde = True)\n",
        "plt.axvline(df.BPM.mean(), color='red', linestyle='dashed', linewidth=4)\n",
        "text  = 'Std dev: ' + str(round(df.BPM.std(), 2)) + '\\n'\n",
        "text += 'Mean: ' + str(round(df.BPM.mean(), 2)) + '\\n'\n",
        "text += 'Median: ' + str(round(df.BPM.median(), 2)) + '\\n'\n",
        "text += 'Mode: ' + str(round(df.BPM.mode()[0], 2)) + '\\n'\n",
        "text += '25% Percentile: ' + str(round(df.BPM.quantile(0.25), 2)) + '\\n'\n",
        "text += '50% Percentile: ' + str(round(df.BPM.quantile(0.50), 2)) + '\\n'\n",
        "text += '75% Percentile: ' + str(round(df.BPM.quantile(0.75), 2))\n",
        "\n",
        "plt.text(0.95, 0.5, text, fontsize=10, transform=plt.gcf().transFigure)\n",
        "\n",
        "plt.show()\n",
        "\n",
        "\n"
      ],
      "metadata": {
        "colab": {
          "base_uri": "https://localhost:8080/",
          "height": 453
        },
        "id": "Jv_v2sa1Z2_s",
        "outputId": "5b5167b6-5360-4443-b14b-a627737fcf38"
      },
      "execution_count": 9,
      "outputs": [
        {
          "output_type": "display_data",
          "data": {
            "text/plain": [
              "<Figure size 640x480 with 1 Axes>"
            ],
            "image/png": "[encoded data removed]"
          },
          "metadata": {}
        }
      ]
    },
    {
      "cell_type": "markdown",
      "source": [
        "#Primary Streaming Service"
      ],
      "metadata": {
        "id": "IeNoDwyQjzg0"
      }
    },
    {
      "cell_type": "code",
      "source": [
        "df['Primary streaming service'].value_counts(normalize = True)"
      ],
      "metadata": {
        "colab": {
          "base_uri": "https://localhost:8080/"
        },
        "id": "jt-YgiDs1U1F",
        "outputId": "56c50cba-ff91-4edf-d71e-bb02f4f2a4ad"
      },
      "execution_count": 10,
      "outputs": [
        {
          "output_type": "execute_result",
          "data": {
            "text/plain": [
              "Spotify                              0.623129\n",
              "YouTube Music                        0.127891\n",
              "I do not use a streaming service.    0.096599\n",
              "Apple Music                          0.069388\n",
              "Other streaming service              0.068027\n",
              "Pandora                              0.014966\n",
              "Name: Primary streaming service, dtype: float64"
            ]
          },
          "metadata": {},
          "execution_count": 10
        }
      ]
    },
    {
      "cell_type": "code",
      "source": [
        "import matplotlib.pyplot as plt\n",
        "\n",
        "s_colors = ['lightgreen', 'lightcoral', 'steelblue', 'palevioletred', 'gold', 'darkturquoise']\n",
        "\n",
        "services = df['Primary streaming service'].value_counts()\n",
        "services.plot(kind='pie', colors = s_colors)\n",
        "\n",
        "plt.title('Streaming services by popularity')\n",
        "plt.ylabel(\"\")"
      ],
      "metadata": {
        "colab": {
          "base_uri": "https://localhost:8080/",
          "height": 445
        },
        "id": "RC16W_7Sl_J6",
        "outputId": "ae8deb26-3049-40c1-e24c-cb1c7068e33b"
      },
      "execution_count": 11,
      "outputs": [
        {
          "output_type": "execute_result",
          "data": {
            "text/plain": [
              "Text(0, 0.5, '')"
            ]
          },
          "metadata": {},
          "execution_count": 11
        },
        {
          "output_type": "display_data",
          "data": {
            "text/plain": [
              "<Figure size 640x480 with 1 Axes>"
            ],
            "image/png": "[encoded data removed]"
          },
          "metadata": {}
        }
      ]
    },
    {
      "cell_type": "markdown",
      "source": [
        "##Fav Genere"
      ],
      "metadata": {
        "id": "V3_SZ8HCmNh_"
      }
    },
    {
      "cell_type": "code",
      "source": [
        "df['Fav genre'].value_counts(normalize = True)"
      ],
      "metadata": {
        "colab": {
          "base_uri": "https://localhost:8080/"
        },
        "id": "BuVN5jP_mRYU",
        "outputId": "f048211f-1f9d-44e2-ac96-2100813698eb"
      },
      "execution_count": 12,
      "outputs": [
        {
          "output_type": "execute_result",
          "data": {
            "text/plain": [
              "Rock                0.255435\n",
              "Pop                 0.154891\n",
              "Metal               0.119565\n",
              "Classical           0.072011\n",
              "Video game music    0.059783\n",
              "EDM                 0.050272\n",
              "R&B                 0.047554\n",
              "Hip hop             0.047554\n",
              "Folk                0.040761\n",
              "K pop               0.035326\n",
              "Country             0.033967\n",
              "Rap                 0.029891\n",
              "Jazz                0.027174\n",
              "Lofi                0.013587\n",
              "Gospel              0.008152\n",
              "Latin               0.004076\n",
              "Name: Fav genre, dtype: float64"
            ]
          },
          "metadata": {},
          "execution_count": 12
        }
      ]
    },
    {
      "cell_type": "code",
      "source": [
        "import matplotlib.pyplot as plt\n",
        "\n",
        "\n",
        "\n",
        "services = df['Fav genre'].value_counts()\n",
        "services.plot(kind='pie', colors = s_colors)\n",
        "\n",
        "plt.title('Music GEnre by Popularity')\n",
        "plt.ylabel(\"\")"
      ],
      "metadata": {
        "colab": {
          "base_uri": "https://localhost:8080/",
          "height": 445
        },
        "id": "1Jj1kY37mlMp",
        "outputId": "150d13b4-4b87-47a2-da33-e3bd0a573ab4"
      },
      "execution_count": 13,
      "outputs": [
        {
          "output_type": "execute_result",
          "data": {
            "text/plain": [
              "Text(0, 0.5, '')"
            ]
          },
          "metadata": {},
          "execution_count": 13
        },
        {
          "output_type": "display_data",
          "data": {
            "text/plain": [
              "<Figure size 640x480 with 1 Axes>"
            ],
            "image/png": "[encoded data removed]"
          },
          "metadata": {}
        }
      ]
    },
    {
      "cell_type": "markdown",
      "source": [
        "# Exploratory"
      ],
      "metadata": {
        "id": "_Ucuj_jOoBrq"
      }
    },
    {
      "cell_type": "code",
      "source": [
        "df_ex = df.Exploratory\n",
        "df_ex.value_counts(normalize = True)"
      ],
      "metadata": {
        "colab": {
          "base_uri": "https://localhost:8080/"
        },
        "id": "LX9BdjXEoFQh",
        "outputId": "2ef0a02f-0ee7-4502-a34f-10b445ce53a9"
      },
      "execution_count": 14,
      "outputs": [
        {
          "output_type": "execute_result",
          "data": {
            "text/plain": [
              "Yes    0.713315\n",
              "No     0.286685\n",
              "Name: Exploratory, dtype: float64"
            ]
          },
          "metadata": {},
          "execution_count": 14
        }
      ]
    },
    {
      "cell_type": "markdown",
      "source": [
        "#Foreign Language"
      ],
      "metadata": {
        "id": "pe5Kb7PboczF"
      }
    },
    {
      "cell_type": "code",
      "source": [
        "df_fl = df['Foreign languages']\n",
        "df_fl.value_counts(normalize = True)"
      ],
      "metadata": {
        "colab": {
          "base_uri": "https://localhost:8080/"
        },
        "id": "6XfLmhY0ofP7",
        "outputId": "7dbdd898-6455-4eb9-a74b-1fb8b7869817"
      },
      "execution_count": 15,
      "outputs": [
        {
          "output_type": "execute_result",
          "data": {
            "text/plain": [
              "Yes    0.551913\n",
              "No     0.448087\n",
              "Name: Foreign languages, dtype: float64"
            ]
          },
          "metadata": {},
          "execution_count": 15
        }
      ]
    },
    {
      "cell_type": "markdown",
      "source": [
        "##  Listening Freq All, this may need change, since there is order to its catigoricalness, changed to numerical values 0, never, 1 rarely, 2, sometimes and 3, very frequently"
      ],
      "metadata": {
        "id": "prJFHUOV39tB"
      }
    },
    {
      "cell_type": "code",
      "source": [
        "# df.replace(['Never', 'Rarely', 'Sometimes', 'Very frequently'],\n",
        "#                         [0, 1, 2, 3], inplace=True) done with later replacements\n",
        "\n",
        "\n",
        "df_fc = df['Frequency [Classical]']\n",
        "df_fc.value_counts()"
      ],
      "metadata": {
        "colab": {
          "base_uri": "https://localhost:8080/"
        },
        "id": "qy6YLlCj39B_",
        "outputId": "5171cc6d-2122-443d-b94a-e910218a3314"
      },
      "execution_count": 16,
      "outputs": [
        {
          "output_type": "execute_result",
          "data": {
            "text/plain": [
              "Rarely             259\n",
              "Sometimes          200\n",
              "Never              169\n",
              "Very frequently    108\n",
              "Name: Frequency [Classical], dtype: int64"
            ]
          },
          "metadata": {},
          "execution_count": 16
        }
      ]
    },
    {
      "cell_type": "code",
      "source": [
        "df_fc.value_counts(normalize = True)"
      ],
      "metadata": {
        "colab": {
          "base_uri": "https://localhost:8080/"
        },
        "id": "Uz4zi2tP4kXz",
        "outputId": "42d1c9aa-4c89-4a04-8d70-eedf064a72e6"
      },
      "execution_count": 17,
      "outputs": [
        {
          "output_type": "execute_result",
          "data": {
            "text/plain": [
              "Rarely             0.351902\n",
              "Sometimes          0.271739\n",
              "Never              0.229620\n",
              "Very frequently    0.146739\n",
              "Name: Frequency [Classical], dtype: float64"
            ]
          },
          "metadata": {},
          "execution_count": 17
        }
      ]
    },
    {
      "cell_type": "markdown",
      "source": [
        "# Fav Genre"
      ],
      "metadata": {
        "id": "6ILHVgHz_Zq4"
      }
    },
    {
      "cell_type": "code",
      "source": [
        "df_fg = df['Fav genre']\n",
        "print('value counts fav genere', df_fg.value_counts())\n",
        "print('len value count for veriication', len(df_fg.value_counts()))"
      ],
      "metadata": {
        "colab": {
          "base_uri": "https://localhost:8080/"
        },
        "id": "SjrBG5NG-s7l",
        "outputId": "06e84f76-89ff-4bb1-ae19-c9c7530fbc31"
      },
      "execution_count": 18,
      "outputs": [
        {
          "output_type": "stream",
          "name": "stdout",
          "text": [
            "value counts fav genere Rock                188\n",
            "Pop                 114\n",
            "Metal                88\n",
            "Classical            53\n",
            "Video game music     44\n",
            "EDM                  37\n",
            "R&B                  35\n",
            "Hip hop              35\n",
            "Folk                 30\n",
            "K pop                26\n",
            "Country              25\n",
            "Rap                  22\n",
            "Jazz                 20\n",
            "Lofi                 10\n",
            "Gospel                6\n",
            "Latin                 3\n",
            "Name: Fav genre, dtype: int64\n",
            "len value count for veriication 16\n"
          ]
        }
      ]
    },
    {
      "cell_type": "markdown",
      "source": [
        "# Primary Streaming Service"
      ],
      "metadata": {
        "id": "yHgGr8InAfXb"
      }
    },
    {
      "cell_type": "code",
      "source": [
        "df_pss = df['Primary streaming service']\n",
        "print('value counts fav genere', df_pss.value_counts())\n",
        "print('len value count for veriication', len(df_pss.value_counts()))"
      ],
      "metadata": {
        "colab": {
          "base_uri": "https://localhost:8080/"
        },
        "id": "fqsPr6ENAjHD",
        "outputId": "cbda44ad-2d4c-499a-e409-cc3436c6d3e5"
      },
      "execution_count": 19,
      "outputs": [
        {
          "output_type": "stream",
          "name": "stdout",
          "text": [
            "value counts fav genere Spotify                              458\n",
            "YouTube Music                         94\n",
            "I do not use a streaming service.     71\n",
            "Apple Music                           51\n",
            "Other streaming service               50\n",
            "Pandora                               11\n",
            "Name: Primary streaming service, dtype: int64\n",
            "len value count for veriication 6\n"
          ]
        }
      ]
    },
    {
      "cell_type": "markdown",
      "source": [
        "##Changing Catigorical to Numberical Variables"
      ],
      "metadata": {
        "id": "tmkd4j2klyoB"
      }
    },
    {
      "cell_type": "code",
      "source": [
        "df.replace(['Other streaming service', 'I do not use a streaming service.', 'YouTube Music'],\n",
        "                       ['Other', 'None', 'YouTube'], inplace=True)\n",
        "df.replace(['No', 'Yes'],\n",
        "                       [0, 1], inplace=True)\n",
        "\n",
        "df.replace(['Video game music'],\n",
        "                       ['Video game'], inplace=True)\n",
        "\n",
        "df.replace(['Never', 'Rarely', 'Sometimes', 'Very frequently'],\n",
        "                        [0, 1, 2, 3], inplace=True)\n",
        "\n",
        "\n",
        "# using sk lean to make process shorter\n",
        "from sklearn.preprocessing import LabelEncoder\n",
        "encoder = LabelEncoder()\n",
        "df['Fav genre'] = encoder.fit_transform(df['Fav genre'])\n",
        "df['Primary streaming service'] = encoder.fit_transform(df['Primary streaming service'])\n",
        "df['Music effects'] = encoder.fit_transform(df['Music effects'])\n",
        "\n",
        "\n"
      ],
      "metadata": {
        "id": "g7o0bNQFlxAz"
      },
      "execution_count": 20,
      "outputs": []
    },
    {
      "cell_type": "markdown",
      "source": [
        "###Fav Genre"
      ],
      "metadata": {
        "id": "KYr8bJt-0QeA"
      }
    },
    {
      "cell_type": "code",
      "source": [
        "df_fg = df['Fav genre']\n",
        "print('value counts fav genere', df_fg.value_counts())\n",
        "print('len value count for veriication', len(df_fg.value_counts()))"
      ],
      "metadata": {
        "colab": {
          "base_uri": "https://localhost:8080/"
        },
        "id": "v9NnYlz4-4sK",
        "outputId": "44a653b5-2d73-40e6-e486-4f6308c505e1"
      },
      "execution_count": 21,
      "outputs": [
        {
          "output_type": "stream",
          "name": "stdout",
          "text": [
            "value counts fav genere 14    188\n",
            "11    114\n",
            "10     88\n",
            "0      53\n",
            "15     44\n",
            "2      37\n",
            "12     35\n",
            "5      35\n",
            "3      30\n",
            "7      26\n",
            "1      25\n",
            "13     22\n",
            "6      20\n",
            "9      10\n",
            "4       6\n",
            "8       3\n",
            "Name: Fav genre, dtype: int64\n",
            "len value count for veriication 16\n"
          ]
        }
      ]
    },
    {
      "cell_type": "code",
      "source": [
        "df_pss = df['Primary streaming service']\n",
        "print('value counts fav genere', df_pss.value_counts())\n",
        "print('len value count for veriication', len(df_pss.value_counts()))"
      ],
      "metadata": {
        "colab": {
          "base_uri": "https://localhost:8080/"
        },
        "id": "JFd1-sUHAEBG",
        "outputId": "5152b9e7-3f70-44e1-c629-db03208a6fab"
      },
      "execution_count": 22,
      "outputs": [
        {
          "output_type": "stream",
          "name": "stdout",
          "text": [
            "value counts fav genere 4    458\n",
            "5     94\n",
            "1     71\n",
            "0     51\n",
            "2     50\n",
            "3     11\n",
            "6      1\n",
            "Name: Primary streaming service, dtype: int64\n",
            "len value count for veriication 7\n"
          ]
        }
      ]
    },
    {
      "cell_type": "code",
      "source": [
        "df_me = df['Music effects']\n",
        "print('Value Counts ME:', df_me.value_counts())\n",
        "print('len value count for verification:', len(df_me.value_counts()))"
      ],
      "metadata": {
        "colab": {
          "base_uri": "https://localhost:8080/"
        },
        "id": "41ZdoSFU06fH",
        "outputId": "91f07572-9f81-41ad-9b14-688c8a5e0d20"
      },
      "execution_count": 23,
      "outputs": [
        {
          "output_type": "stream",
          "name": "stdout",
          "text": [
            "Value Counts ME: 0    542\n",
            "1    169\n",
            "2     17\n",
            "3      8\n",
            "Name: Music effects, dtype: int64\n",
            "len value count for verification: 4\n"
          ]
        }
      ]
    },
    {
      "cell_type": "code",
      "source": [
        "df.info()"
      ],
      "metadata": {
        "colab": {
          "base_uri": "https://localhost:8080/"
        },
        "id": "zt-TSzJk_xa0",
        "outputId": "813924d0-349e-43b2-c32f-da451daae261"
      },
      "execution_count": 24,
      "outputs": [
        {
          "output_type": "stream",
          "name": "stdout",
          "text": [
            "<class 'pandas.core.frame.DataFrame'>\n",
            "RangeIndex: 736 entries, 0 to 735\n",
            "Data columns (total 33 columns):\n",
            " #   Column                        Non-Null Count  Dtype  \n",
            "---  ------                        --------------  -----  \n",
            " 0   Timestamp                     736 non-null    object \n",
            " 1   Age                           735 non-null    float64\n",
            " 2   Primary streaming service     736 non-null    int64  \n",
            " 3   Hours per day                 736 non-null    float64\n",
            " 4   While working                 733 non-null    float64\n",
            " 5   Instrumentalist               732 non-null    float64\n",
            " 6   Composer                      735 non-null    float64\n",
            " 7   Fav genre                     736 non-null    int64  \n",
            " 8   Exploratory                   736 non-null    int64  \n",
            " 9   Foreign languages             732 non-null    float64\n",
            " 10  BPM                           629 non-null    float64\n",
            " 11  Frequency [Classical]         736 non-null    int64  \n",
            " 12  Frequency [Country]           736 non-null    int64  \n",
            " 13  Frequency [EDM]               736 non-null    int64  \n",
            " 14  Frequency [Folk]              736 non-null    int64  \n",
            " 15  Frequency [Gospel]            736 non-null    int64  \n",
            " 16  Frequency [Hip hop]           736 non-null    int64  \n",
            " 17  Frequency [Jazz]              736 non-null    int64  \n",
            " 18  Frequency [K pop]             736 non-null    int64  \n",
            " 19  Frequency [Latin]             736 non-null    int64  \n",
            " 20  Frequency [Lofi]              736 non-null    int64  \n",
            " 21  Frequency [Metal]             736 non-null    int64  \n",
            " 22  Frequency [Pop]               736 non-null    int64  \n",
            " 23  Frequency [R&B]               736 non-null    int64  \n",
            " 24  Frequency [Rap]               736 non-null    int64  \n",
            " 25  Frequency [Rock]              736 non-null    int64  \n",
            " 26  Frequency [Video game music]  736 non-null    int64  \n",
            " 27  Anxiety                       736 non-null    float64\n",
            " 28  Depression                    736 non-null    float64\n",
            " 29  Insomnia                      736 non-null    float64\n",
            " 30  OCD                           736 non-null    float64\n",
            " 31  Music effects                 736 non-null    int64  \n",
            " 32  Permissions                   736 non-null    object \n",
            "dtypes: float64(11), int64(20), object(2)\n",
            "memory usage: 189.9+ KB\n"
          ]
        }
      ]
    },
    {
      "cell_type": "markdown",
      "source": [
        "#Handling Missing Data"
      ],
      "metadata": {
        "id": "8D_mq-rTks7u"
      }
    },
    {
      "cell_type": "code",
      "source": [
        "# Dealing with missing Data\n",
        "\n",
        "# Numerical Values\n",
        "mean_value_Age = df['Age'].mean()\n",
        "mean_value_BPM = df['BPM'].mean() # remove the wrong outlier\n",
        "\n",
        "# Catigorical Values\n",
        "mode_value_SService = df['Primary streaming service'].mode()[0]\n",
        "mode_value_WWorking = df['While working'].mode()[0]\n",
        "mode_value_Instrumentalist = df['Instrumentalist'].mode()[0]\n",
        "mode_value_Composer = df['Composer'].mode()[0]\n",
        "mode_value_Foreign_languages = df['Foreign languages'].mode()[0]\n",
        "mode_value_MEffects = df['Music effects'].mode()[0]\n",
        "\n",
        "# Replace missing values with the mean\n",
        "df['Age'].fillna(mean_value_Age, inplace=True)\n",
        "df['BPM'].fillna(mean_value_Age, inplace=True)\n",
        "\n",
        "# Replace catigorical values with the mode\n",
        "df['Primary streaming service'].fillna(mode_value_SService, inplace=True)\n",
        "df['While working'].fillna(mode_value_WWorking, inplace=True)\n",
        "df['Instrumentalist'].fillna(mode_value_Instrumentalist, inplace=True)\n",
        "df['Composer'].fillna(mode_value_Composer, inplace=True)\n",
        "df['Foreign languages'].fillna(mode_value_Foreign_languages, inplace=True)\n",
        "df['Music effects'].fillna(mode_value_MEffects, inplace=True)"
      ],
      "metadata": {
        "id": "dPqX0MSVjlaY"
      },
      "execution_count": 25,
      "outputs": []
    },
    {
      "cell_type": "markdown",
      "source": [
        "#Modelling"
      ],
      "metadata": {
        "id": "x9cih1AozUwJ"
      }
    },
    {
      "cell_type": "code",
      "source": [
        "from sklearn.model_selection import train_test_split\n",
        "from sklearn.preprocessing import StandardScaler\n",
        "from sklearn.linear_model import LogisticRegression\n",
        "from sklearn.tree import DecisionTreeClassifier\n",
        "from sklearn.ensemble import RandomForestClassifier\n",
        "from sklearn.metrics import accuracy_score\n",
        "from sklearn.metrics import accuracy_score, precision_score, recall_score, f1_score\n",
        "from sklearn.neighbors import KNeighborsClassifier\n",
        "from sklearn.svm import SVC"
      ],
      "metadata": {
        "id": "lsgtkunUZcsL"
      },
      "execution_count": 38,
      "outputs": []
    },
    {
      "cell_type": "code",
      "source": [
        "# Split the data into features (X) and target variable (y)\n",
        "df_target = df['Music effects']  # Target\n",
        "df_features = df.drop(['Timestamp', 'Permissions', 'Music effects'], axis=1) # Features\n",
        "\n",
        "# Split the data into training and test sets\n",
        "X_train, X_test, y_train, y_test = train_test_split(df_features, df_target, test_size=0.2, random_state=42)\n",
        "\n",
        "# Initialize the classifiers\n",
        "logistic_regression = LogisticRegression(multi_class='multinomial', solver='lbfgs')\n",
        "decision_tree = DecisionTreeClassifier()\n",
        "random_forest = RandomForestClassifier()\n",
        "knn = KNeighborsClassifier()\n",
        "svm = SVC()\n",
        "\n",
        "# Train the classifiers\n",
        "logistic_regression.fit(X_train, y_train)\n",
        "decision_tree.fit(X_train, y_train)\n",
        "random_forest.fit(X_train, y_train)\n",
        "knn.fit(X_train, y_train)\n",
        "svm.fit(X_train, y_train)\n",
        "\n",
        "# Predict on the test set\n",
        "logistic_regression_preds = logistic_regression.predict(X_test)\n",
        "decision_tree_preds = decision_tree.predict(X_test)\n",
        "random_forest_preds = random_forest.predict(X_test)\n",
        "knn_preds = knn.predict(X_test)\n",
        "svm_preds = svm.predict(X_test)\n",
        "\n",
        "# Evaluate the classifiers\n",
        "logistic_regression_accuracy = accuracy_score(y_test, logistic_regression_preds)\n",
        "decision_tree_accuracy = accuracy_score(y_test, decision_tree_preds)\n",
        "random_forest_accuracy = accuracy_score(y_test, random_forest_preds)\n",
        "knn_accuracy = accuracy_score(y_test, knn_preds)\n",
        "svm_accuracy = accuracy_score(y_test, svm_preds)\n",
        "\n",
        "# Print the evaluation metrics\n",
        "print(\"Logistic Regression Accuracy:\", logistic_regression_accuracy)\n",
        "print()\n",
        "print(\"Decision Tree Accuracy:\", decision_tree_accuracy)\n",
        "print()\n",
        "print(\"Random Forest Accuracy:\", random_forest_accuracy)\n",
        "print()\n",
        "print(\"KNN Accuracy:\", knn_accuracy)\n",
        "print()\n",
        "print(\"SVM Accuracy:\", svm_accuracy)\n",
        "\n"
      ],
      "metadata": {
        "colab": {
          "base_uri": "https://localhost:8080/"
        },
        "id": "znLUn5alDmcc",
        "outputId": "1c6bb9b1-af61-4b2a-dc7c-445c34882075"
      },
      "execution_count": 47,
      "outputs": [
        {
          "output_type": "stream",
          "name": "stderr",
          "text": [
            "/usr/local/lib/python3.10/dist-packages/sklearn/linear_model/_logistic.py:458: ConvergenceWarning: lbfgs failed to converge (status=1):\n",
            "STOP: TOTAL NO. of ITERATIONS REACHED LIMIT.\n",
            "\n",
            "Increase the number of iterations (max_iter) or scale the data as shown in:\n",
            "    https://scikit-learn.org/stable/modules/preprocessing.html\n",
            "Please also refer to the documentation for alternative solver options:\n",
            "    https://scikit-learn.org/stable/modules/linear_model.html#logistic-regression\n",
            "  n_iter_i = _check_optimize_result(\n"
          ]
        },
        {
          "output_type": "stream",
          "name": "stdout",
          "text": [
            "Logistic Regression Accuracy: 0.7837837837837838\n",
            "\n",
            "Decision Tree Accuracy: 0.5540540540540541\n",
            "\n",
            "Random Forest Accuracy: 0.777027027027027\n",
            "\n",
            "KNN Accuracy: 0.75\n",
            "\n",
            "SVM Accuracy: 0.7635135135135135\n"
          ]
        }
      ]
    },
    {
      "cell_type": "code",
      "source": [
        "import torch\n",
        "import torch.nn as nn\n",
        "import torch.optim as optim\n",
        "from torch.utils.data import TensorDataset, DataLoader\n",
        "from sklearn.preprocessing import LabelEncoder\n",
        "from sklearn.preprocessing import StandardScaler"
      ],
      "metadata": {
        "id": "-jN3w23IcWTU"
      },
      "execution_count": 41,
      "outputs": []
    },
    {
      "cell_type": "code",
      "source": [
        "\n",
        "# Convert the target variable to categorical labels\n",
        "encoder = LabelEncoder()\n",
        "encoded_y_train = encoder.fit_transform(y_train)\n",
        "encoded_y_test = encoder.transform(y_test)\n",
        "\n",
        "# Scale the features\n",
        "scaler = StandardScaler()\n",
        "X_train_scaled = scaler.fit_transform(X_train)\n",
        "X_test_scaled = scaler.transform(X_test)\n",
        "\n",
        "# Convert the data to PyTorch tensors\n",
        "X_train_tensor = torch.tensor(X_train_scaled, dtype=torch.float32)\n",
        "X_test_tensor = torch.tensor(X_test_scaled, dtype=torch.float32)\n",
        "y_train_tensor = torch.tensor(encoded_y_train, dtype=torch.long)\n",
        "y_test_tensor = torch.tensor(encoded_y_test, dtype=torch.long)\n",
        "\n",
        "# Create a DataLoader for training and test data\n",
        "train_dataset = TensorDataset(X_train_tensor, y_train_tensor)\n",
        "train_loader = DataLoader(train_dataset, batch_size=32, shuffle=True)\n",
        "test_dataset = TensorDataset(X_test_tensor, y_test_tensor)\n",
        "test_loader = DataLoader(test_dataset, batch_size=32, shuffle=False)\n",
        "\n",
        "# Define the neural network model\n",
        "class NeuralNet(nn.Module):\n",
        "    def __init__(self, input_size, hidden_size, num_classes):\n",
        "        super(NeuralNet, self).__init__()\n",
        "        self.fc1 = nn.Linear(input_size, hidden_size)\n",
        "        self.relu = nn.ReLU()\n",
        "        self.fc2 = nn.Linear(hidden_size, num_classes)\n",
        "        self.softmax = nn.Softmax(dim=1)\n",
        "\n",
        "    def forward(self, x):\n",
        "        out = self.fc1(x)\n",
        "        out = self.relu(out)\n",
        "        out = self.fc2(out)\n",
        "        out = self.softmax(out)\n",
        "        return out\n",
        "\n",
        "# Set the hyperparameters\n",
        "input_size = X_train.shape[1]\n",
        "hidden_size = 64\n",
        "num_classes = len(encoder.classes_)\n",
        "learning_rate = 0.001\n",
        "num_epochs = 100\n",
        "\n",
        "# Initialize the model\n",
        "neural_network =  NeuralNet(input_size, hidden_size, num_classes)\n",
        "\n",
        "# Define the loss function and optimizer\n",
        "criterion = nn.CrossEntropyLoss()\n",
        "optimizer = optim.Adam(neural_network.parameters(), lr=learning_rate)\n",
        "\n",
        "# Train the model\n",
        "for epoch in range(num_epochs):\n",
        "    for inputs, labels in train_loader:\n",
        "        # Forward pass\n",
        "        outputs = neural_network(inputs)\n",
        "        loss = criterion(outputs, labels)\n",
        "\n",
        "        # Backward and optimize\n",
        "        optimizer.zero_grad()\n",
        "        loss.backward()\n",
        "        optimizer.step()\n",
        "\n",
        "# Evaluate the model\n",
        "with torch.no_grad():\n",
        "    correct = 0\n",
        "    total = 0\n",
        "    for inputs, labels in test_loader:\n",
        "        outputs = neural_network(inputs)\n",
        "        _, predicted = torch.max(outputs.data, 1)\n",
        "        total += labels.size(0)\n",
        "        correct += (predicted == labels).sum().item()\n",
        "\n",
        "NN_accuracy = correct / total\n",
        "print(\"Neural Network Accuracy:\", NN_accuracy)\n"
      ],
      "metadata": {
        "colab": {
          "base_uri": "https://localhost:8080/"
        },
        "id": "bWy8SWQ2cS8e",
        "outputId": "58087ec8-d621-41ac-cba6-ad476b01c1a3"
      },
      "execution_count": 51,
      "outputs": [
        {
          "output_type": "stream",
          "name": "stdout",
          "text": [
            "Neural Network Accuracy: 0.7635135135135135\n"
          ]
        }
      ]
    },
    {
      "cell_type": "code",
      "source": [
        "import seaborn as sns\n",
        "import matplotlib.pyplot as plt"
      ],
      "metadata": {
        "id": "fmTXPVissfQe"
      },
      "execution_count": 48,
      "outputs": []
    },
    {
      "cell_type": "code",
      "source": [
        "Accuracies = [logistic_regression_accuracy, decision_tree_accuracy, random_forest_accuracy, knn_accuracy, svm_accuracy, NN_accuracy]"
      ],
      "metadata": {
        "id": "Hz0laeUlsaZu"
      },
      "execution_count": 52,
      "outputs": []
    },
    {
      "cell_type": "code",
      "source": [
        "import seaborn as sns\n",
        "import matplotlib.pyplot as plt\n",
        "\n",
        "# Define the accuracies\n",
        "accuracies = [logistic_regression_accuracy, decision_tree_accuracy, random_forest_accuracy, knn_accuracy, svm_accuracy, NN_accuracy]\n",
        "\n",
        "# Define the classifiers' names\n",
        "classifiers = ['Logistic Regression', 'Decision Tree', 'Random Forest', 'KNN', 'SVM', 'Neural Network']\n",
        "\n",
        "# Create a dataframe for the accuracies and classifiers\n",
        "data = {'Classifier': classifiers, 'Accuracy': accuracies}\n",
        "df = pd.DataFrame(data)\n",
        "\n",
        "# Create the bar plot\n",
        "sns.set(style=\"whitegrid\")\n",
        "plt.figure(figsize=(8, 5))\n",
        "plt.title(\"Classifier Accuracies\")\n",
        "sns.barplot(x=\"Classifier\", y=\"Accuracy\", data=df)\n",
        "plt.xlabel(\"Classifier\")\n",
        "plt.ylabel(\"Accuracy\")\n",
        "plt.xticks(rotation=45)\n",
        "plt.show()\n"
      ],
      "metadata": {
        "colab": {
          "base_uri": "https://localhost:8080/",
          "height": 595
        },
        "id": "UrjZ4-ThtJwO",
        "outputId": "1c0e15bd-22a8-497d-a4ee-ccc3544a917c"
      },
      "execution_count": 54,
      "outputs": [
        {
          "output_type": "display_data",
          "data": {
            "text/plain": [
              "<Figure size 800x500 with 1 Axes>"
            ],
            "image/png": "[encoded data removed]"
          },
          "metadata": {}
        }
      ]
    },
    {
      "cell_type": "code",
      "source": [
        "print(\"Logistic Regression Accuracy:\", logistic_regression_accuracy)\n",
        "print()\n",
        "print(\"Decision Tree Accuracy:\", decision_tree_accuracy)\n",
        "print()\n",
        "print(\"Random Forest Accuracy:\", random_forest_accuracy)\n",
        "print()\n",
        "print(\"KNN Accuracy:\", knn_accuracy)\n",
        "print()\n",
        "print(\"SVM Accuracy:\", svm_accuracy)\n",
        "print()\n",
        "print(\"NN Accuracy:\", NN_accuracy)"
      ],
      "metadata": {
        "colab": {
          "base_uri": "https://localhost:8080/"
        },
        "id": "AJ_-0UQDuTa8",
        "outputId": "2fa18ac2-5e65-4b39-d996-a183359d3f73"
      },
      "execution_count": 55,
      "outputs": [
        {
          "output_type": "stream",
          "name": "stdout",
          "text": [
            "Logistic Regression Accuracy: 0.7837837837837838\n",
            "\n",
            "Decision Tree Accuracy: 0.5540540540540541\n",
            "\n",
            "Random Forest Accuracy: 0.777027027027027\n",
            "\n",
            "KNN Accuracy: 0.75\n",
            "\n",
            "SVM Accuracy: 0.7635135135135135\n",
            "\n",
            "NN Accuracy: 0.7635135135135135\n"
          ]
        }
      ]
    },
    {
      "cell_type": "code",
      "source": [
        "from sklearn.model_selection import cross_val_score\n",
        "\n",
        "# Initialize the classifiers\n",
        "logistic_regression = LogisticRegression(multi_class='multinomial', solver='lbfgs')\n",
        "decision_tree = DecisionTreeClassifier()\n",
        "random_forest = RandomForestClassifier()\n",
        "knn = KNeighborsClassifier()\n",
        "svm = SVC()\n",
        "# neural_network = MLPClassifier()\n",
        "\n",
        "# Create a list of classifiers\n",
        "classifiers = [logistic_regression, decision_tree, random_forest, knn, svm]\n",
        "\n",
        "# Perform cross-validation for each classifier\n",
        "for classifier in classifiers:\n",
        "    scores = cross_val_score(classifier, df_features, df_target, cv=5)\n",
        "    average_accuracy = scores.mean()\n",
        "    print(\"Average Accuracy for {}: {:.4f}\".format(classifier.__class__.__name__, average_accuracy))\n"
      ],
      "metadata": {
        "colab": {
          "base_uri": "https://localhost:8080/"
        },
        "id": "eSrPlRF4v2QF",
        "outputId": "a9a944a3-16f4-4651-c89b-700ab8707c92"
      },
      "execution_count": 58,
      "outputs": [
        {
          "output_type": "stream",
          "name": "stderr",
          "text": [
            "/usr/local/lib/python3.10/dist-packages/sklearn/linear_model/_logistic.py:458: ConvergenceWarning: lbfgs failed to converge (status=1):\n",
            "STOP: TOTAL NO. of ITERATIONS REACHED LIMIT.\n",
            "\n",
            "Increase the number of iterations (max_iter) or scale the data as shown in:\n",
            "    https://scikit-learn.org/stable/modules/preprocessing.html\n",
            "Please also refer to the documentation for alternative solver options:\n",
            "    https://scikit-learn.org/stable/modules/linear_model.html#logistic-regression\n",
            "  n_iter_i = _check_optimize_result(\n",
            "/usr/local/lib/python3.10/dist-packages/sklearn/linear_model/_logistic.py:458: ConvergenceWarning: lbfgs failed to converge (status=1):\n",
            "STOP: TOTAL NO. of ITERATIONS REACHED LIMIT.\n",
            "\n",
            "Increase the number of iterations (max_iter) or scale the data as shown in:\n",
            "    https://scikit-learn.org/stable/modules/preprocessing.html\n",
            "Please also refer to the documentation for alternative solver options:\n",
            "    https://scikit-learn.org/stable/modules/linear_model.html#logistic-regression\n",
            "  n_iter_i = _check_optimize_result(\n",
            "/usr/local/lib/python3.10/dist-packages/sklearn/linear_model/_logistic.py:458: ConvergenceWarning: lbfgs failed to converge (status=1):\n",
            "STOP: TOTAL NO. of ITERATIONS REACHED LIMIT.\n",
            "\n",
            "Increase the number of iterations (max_iter) or scale the data as shown in:\n",
            "    https://scikit-learn.org/stable/modules/preprocessing.html\n",
            "Please also refer to the documentation for alternative solver options:\n",
            "    https://scikit-learn.org/stable/modules/linear_model.html#logistic-regression\n",
            "  n_iter_i = _check_optimize_result(\n",
            "/usr/local/lib/python3.10/dist-packages/sklearn/linear_model/_logistic.py:458: ConvergenceWarning: lbfgs failed to converge (status=1):\n",
            "STOP: TOTAL NO. of ITERATIONS REACHED LIMIT.\n",
            "\n",
            "Increase the number of iterations (max_iter) or scale the data as shown in:\n",
            "    https://scikit-learn.org/stable/modules/preprocessing.html\n",
            "Please also refer to the documentation for alternative solver options:\n",
            "    https://scikit-learn.org/stable/modules/linear_model.html#logistic-regression\n",
            "  n_iter_i = _check_optimize_result(\n",
            "/usr/local/lib/python3.10/dist-packages/sklearn/linear_model/_logistic.py:458: ConvergenceWarning: lbfgs failed to converge (status=1):\n",
            "STOP: TOTAL NO. of ITERATIONS REACHED LIMIT.\n",
            "\n",
            "Increase the number of iterations (max_iter) or scale the data as shown in:\n",
            "    https://scikit-learn.org/stable/modules/preprocessing.html\n",
            "Please also refer to the documentation for alternative solver options:\n",
            "    https://scikit-learn.org/stable/modules/linear_model.html#logistic-regression\n",
            "  n_iter_i = _check_optimize_result(\n"
          ]
        },
        {
          "output_type": "stream",
          "name": "stdout",
          "text": [
            "Average Accuracy for LogisticRegression: 0.7228\n",
            "Average Accuracy for DecisionTreeClassifier: 0.5380\n",
            "Average Accuracy for RandomForestClassifier: 0.7323\n",
            "Average Accuracy for KNeighborsClassifier: 0.7038\n",
            "Average Accuracy for SVC: 0.7364\n"
          ]
        }
      ]
    },
    {
      "cell_type": "code",
      "source": [],
      "metadata": {
        "id": "nYIiH4IC0FXI"
      },
      "execution_count": null,
      "outputs": []
    }
  ]
}